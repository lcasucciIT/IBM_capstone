{
 "cells": [
  {
   "cell_type": "markdown",
   "metadata": {},
   "source": [
    "## IBM final Project Capstone - Explore the Neighborhoods of Rome, Italy\n",
    "#### Author Lucia Casucci\n",
    "#### April 2020\n"
   ]
  },
  {
   "cell_type": "markdown",
   "metadata": {},
   "source": [
    "#### This notebook will be used to display the work performed to solve the IBM Project Capstone Project"
   ]
  },
  {
   "cell_type": "markdown",
   "metadata": {},
   "source": [
    "In this assignment, I will explore, segment, and cluster the neighborhoods in the city of Rome. I am interested in finding out what is the best location to open a modern wine bar.\n",
    "\n",
    "For the Rome neighborhood data, a Wikipedia page exists that has all the information we need to explore and cluster the neighborhoods (Municipi) in Rome, the capital of Italy - see link 'https://it.wikipedia.org/wiki/Municipi_di_Roma'. \n",
    "\n",
    "I will scrape the Wikipedia page and wrangle the data, clean it, and then read it into a pandas dataframe so that it is in a structured format.\n",
    "\n",
    "I will convert addresses into their equivalent latitude and longitude values using the geocoder library. Also, I will use the Foursquare API to explore neighborhoods in Rome. I will use the explore function to get the most common venue categories in each neighborhood,check out their ratings,and the overall count of venues to understand the traffic. \n",
    "\n",
    "I will then use this feature to group the neighborhoods into clusters.I will use the k-means clustering algorithm to complete this task. \n",
    "\n",
    "Finally, I will use the Folium library to visualize the neighborhoods in Rome and their emerging clusters, and identify the best one to open a modern wine bar.\n"
   ]
  },
  {
   "cell_type": "markdown",
   "metadata": {},
   "source": [
    "### Scrape the webpage and get the Rome Neighborhoods in a dataframe"
   ]
  },
  {
   "cell_type": "code",
   "execution_count": null,
   "metadata": {},
   "outputs": [],
   "source": [
    "#import the libraries\n",
    "import pandas as pd \n",
    "import numpy as np\n",
    "\n",
    "from bs4 import BeautifulSoup\n",
    "import requests\n",
    "import pandas as pd\n",
    "import geopy\n",
    "from geopy.geocoders import Nominatim\n",
    "\n",
    "\n",
    "\n",
    "#import libraries \n",
    "import numpy as np # library to handle data in a vectorized manner\n",
    "\n",
    "import pandas as pd # library for data analsysis\n",
    "pd.set_option('display.max_columns', None)\n",
    "pd.set_option('display.max_rows', None)\n",
    "\n",
    "import matplotlib.pyplot as plt # for graphical usage \n",
    "\n",
    "import json # library to handle JSON files\n",
    "\n",
    "from geopy.geocoders import Nominatim # convert an address into latitude and longitude values\n",
    "\n",
    "from geopy.geocoders import Nominatim # convert an address into latitude and longitude values\n",
    "import geocoder # to get coordinates\n",
    "\n",
    "import requests # library to handle requests\n",
    "from pandas.io.json import json_normalize # tranform JSON file into a pandas dataframe\n",
    "\n",
    "# Matplotlib and associated plotting modules\n",
    "import matplotlib.cm as cm\n",
    "import matplotlib.colors as colors\n",
    "\n",
    "# import k-means from clustering stage\n",
    "from sklearn.cluster import KMeans\n",
    "\n",
    "import folium # map rendering library\n",
    "from folium import plugins\n",
    "from folium.plugins import HeatMap\n",
    "\n",
    "# main documentation page: http://beautiful-soup-4.readthedocs.io/en/latest/\n",
    "# how to use the BeautifulSoup package: https://www.youtube.com/watch?v=ng2o98k983k video\n",
    "from bs4 import BeautifulSoup \n",
    "import pandas as pd\n",
    "import requests\n",
    "\n",
    "print('Libraries imported.')"
   ]
  },
  {
   "cell_type": "code",
   "execution_count": null,
   "metadata": {},
   "outputs": [],
   "source": [
    "IT_address = 'Rome, Italy'\n",
    "url = \"https://en.wikipedia.org/wiki/Category:Quarters_of_Rome\"\n",
    "source = requests.get(url).text\n",
    "soup = BeautifulSoup(source,'lxml')\n",
    "\n",
    "neighborhoodList = []\n",
    "\n",
    "# append the data into the list\n",
    "for row in soup.find_all(\"div\", class_=\"mw-category\")[0].findAll(\"li\"):\n",
    "    neighborhoodList.append(row.text.replace(', Rome',''))\n",
    "    \n",
    "df_neighborhood = pd.DataFrame({\"Neighborhood\": neighborhoodList})\n",
    "print(\"There are {} neighborhoods in {}\".format(df_neighborhood.shape[0], IT_address))"
   ]
  },
  {
   "cell_type": "code",
   "execution_count": null,
   "metadata": {},
   "outputs": [],
   "source": [
    "def get_geo_info(place_name):\n",
    "    \"\"\"\n",
    "    Gets coordinates and address for a given place name using geopy.\n",
    "\n",
    "    :param place_name: Name of place to search for, eg \"San Francisco\"\n",
    "    :return: Location object with latitude, longitude and name attributes\n",
    "    \"\"\"\n",
    "\n",
    "    from geopy.geocoders import Nominatim\n",
    "\n",
    "    # Create geo_locator object instance\n",
    "    geo_locator = Nominatim()\n",
    "\n",
    "    # Attempt to obtain geo data for given place name\n",
    "    try:\n",
    "        location = geo_locator.geocode(place_name)\n",
    "    except Exception:\n",
    "        raise Exception(\"Location error\")\n",
    "\n",
    "    if not location:\n",
    "        raise Exception(\"Location error\")\n",
    "\n",
    "    return location "
   ]
  },
  {
   "cell_type": "code",
   "execution_count": null,
   "metadata": {},
   "outputs": [],
   "source": [
    "RM_coordinates = get_geo_info('Rome')"
   ]
  },
  {
   "cell_type": "code",
   "execution_count": null,
   "metadata": {},
   "outputs": [],
   "source": [
    "RM_coordinates"
   ]
  },
  {
   "cell_type": "code",
   "execution_count": null,
   "metadata": {},
   "outputs": [],
   "source": [
    "bucharest_address = 'Rome,Italy'\n",
    "\n",
    "geolocator = Nominatim(user_agent=\"Rome_explorer\")\n",
    "location = geolocator.geocode(bucharest_address)\n",
    "latitude = location.latitude\n",
    "longitude = location.longitude\n",
    "bucharest_center = [latitude, longitude ]\n",
    "print('The geograpical coordinate of {} are {}, {}.'.format(bucharest_address, latitude, longitude))"
   ]
  },
  {
   "cell_type": "code",
   "execution_count": null,
   "metadata": {},
   "outputs": [],
   "source": [
    "dr = pd.read_html('https://it.wikipedia.org/wiki/Municipi_di_Roma')[0]\n"
   ]
  },
  {
   "cell_type": "code",
   "execution_count": null,
   "metadata": {},
   "outputs": [],
   "source": [
    "dr"
   ]
  },
  {
   "cell_type": "code",
   "execution_count": null,
   "metadata": {},
   "outputs": [],
   "source": [
    "dr.drop(dr.loc[dr['Municipio'] ==  'Totale'].index, inplace=True)"
   ]
  },
  {
   "cell_type": "code",
   "execution_count": null,
   "metadata": {},
   "outputs": [],
   "source": [
    "dr.drop(['Presidente'], axis = 1,inplace=True) "
   ]
  },
  {
   "cell_type": "code",
   "execution_count": null,
   "metadata": {},
   "outputs": [],
   "source": [
    "df_neighborhood.drop(df_neighborhood.loc[df_neighborhood['Neighborhood'].str.contains(\"Churches\") == True].index, inplace=True)"
   ]
  },
  {
   "cell_type": "code",
   "execution_count": null,
   "metadata": {},
   "outputs": [],
   "source": []
  },
  {
   "cell_type": "code",
   "execution_count": null,
   "metadata": {},
   "outputs": [],
   "source": []
  },
  {
   "cell_type": "code",
   "execution_count": null,
   "metadata": {},
   "outputs": [],
   "source": [
    "ds = pd.read_html('https://en.wikipedia.org/wiki/List_of_districts_and_neighborhoods_of_Los_Angeles')"
   ]
  },
  {
   "cell_type": "code",
   "execution_count": null,
   "metadata": {},
   "outputs": [],
   "source": [
    "IT_address = 'Los Angeles, United States'\n",
    "url = \"https://en.wikipedia.org/wiki/List_of_districts_and_neighborhoods_of_Los_Angeles\"\n",
    "source = requests.get(url).text\n",
    "soup = BeautifulSoup(source,'lxml')\n",
    "\n",
    "neighborhoodList = []\n",
    "\n",
    "# append the data into the list\n",
    "for row in soup.find_all(\"div\", class_=\"mw-body\")[0].findAll(\"li\"):\n",
    "    neighborhoodList.append(row.text.replace(', LA',''))\n",
    "    \n",
    "df_neighborhood = pd.DataFrame({\"Neighborhood\": neighborhoodList})\n",
    "print(\"There are {} neighborhoods in {}\".format(df_neighborhood.shape[0], IT_address))"
   ]
  },
  {
   "cell_type": "code",
   "execution_count": null,
   "metadata": {},
   "outputs": [],
   "source": []
  },
  {
   "cell_type": "code",
   "execution_count": null,
   "metadata": {},
   "outputs": [],
   "source": [
    "import geocoder"
   ]
  },
  {
   "cell_type": "code",
   "execution_count": null,
   "metadata": {},
   "outputs": [],
   "source": [
    "# define a function to get coordinates\n",
    "def get_latlng(neighborhood):\n",
    "    # initialize your variable to None\n",
    "    lat_lng_coords = None\n",
    "    # loop until you get the coordinates\n",
    "    while(lat_lng_coords is None):\n",
    "        g = geocoder.arcgis('{}, {}'.format(neighborhood,bucharest_address))\n",
    "        lat_lng_coords = g.latlng\n",
    "    return lat_lng_coords\n",
    "\n",
    "coords = [ get_latlng(neighborhood) for neighborhood in df_neighborhood[\"Neighborhood\"].tolist() ]\n",
    "\n",
    "df_coords = pd.DataFrame(coords, columns=['Latitude', 'Longitude'])\n",
    "\n",
    "# merge the coordinates into the original dataframe\n",
    "df_neighborhood['Latitude'] = df_coords['Latitude']\n",
    "df_neighborhood['Longitude'] = df_coords['Longitude']\n",
    "print(\"Geographical coordinates of five neighborhoods are as below\")\n",
    "df_neighborhood.head()"
   ]
  },
  {
   "cell_type": "code",
   "execution_count": null,
   "metadata": {},
   "outputs": [],
   "source": [
    "# define a function to get coordinates\n",
    "def get_latlng(neighborhood):\n",
    "    # initialize your variable to None\n",
    "    lat_lng_coords = None\n",
    "    # loop until you get the coordinates\n",
    "    while(lat_lng_coords is None):\n",
    "        g = geocoder.arcgis('{}, {}'.format(neighborhood,bucharest_address))\n",
    "        lat_lng_coords = g.latlng\n",
    "    return lat_lng_coords\n",
    "\n",
    "coords = [ get_latlng(neighborhood) for neighborhood in dr[\"Municipio\"].tolist() ]\n",
    "\n",
    "df1_coords = pd.DataFrame(coords, columns=['Latitude', 'Longitude'])\n",
    "\n",
    "# merge the coordinates into the original dataframe\n",
    "dr['Latitude'] = df1_coords['Latitude']\n",
    "dr['Longitude'] = df1_coords['Longitude']\n",
    "print(\"Geographical coordinates of five neighborhoods are as below\")\n",
    "dr.head()"
   ]
  },
  {
   "cell_type": "code",
   "execution_count": null,
   "metadata": {},
   "outputs": [],
   "source": [
    "df_neighborhood.dropna(inplace=True)"
   ]
  },
  {
   "cell_type": "code",
   "execution_count": null,
   "metadata": {},
   "outputs": [],
   "source": [
    "#create map of Bucharest neighborhoods using latitude and longitude values\n",
    "map_Rome= folium.Map(location=[latitude, longitude], zoom_start=11)\n",
    "\n",
    "# add markers to map\n",
    "for lat, lng,  neighborhood in zip(df_neighborhood['Latitude'], df_neighborhood['Longitude'], df_neighborhood['Neighborhood']):\n",
    "    label = '{}'.format(neighborhood)\n",
    "    label = folium.Popup(label, parse_html=True)\n",
    "    folium.CircleMarker(\n",
    "        [lat, lng],\n",
    "        radius=5,\n",
    "        popup=label,\n",
    "        color='blue',\n",
    "        fill=True,\n",
    "        fill_color='#3186cc',\n",
    "        fill_opacity=0.7,\n",
    "        parse_html=False).add_to(map_Rome)  \n",
    "    \n",
    "map_Rome"
   ]
  },
  {
   "cell_type": "code",
   "execution_count": null,
   "metadata": {},
   "outputs": [],
   "source": [
    "#create map of Bucharest neighborhoods using latitude and longitude values\n",
    "map_Rome2= folium.Map(location=[latitude, longitude], zoom_start=11)\n",
    "\n",
    "# add markers to map\n",
    "for lat, lng,  neighborhood in zip(dr['Latitude'], dr['Longitude'], dr['Municipio']):\n",
    "    label = '{}'.format(neighborhood)\n",
    "    label = folium.Popup(label, parse_html=True)\n",
    "    folium.CircleMarker(\n",
    "        [lat, lng],\n",
    "        radius=5,\n",
    "        popup=label,\n",
    "        color='blue',\n",
    "        fill=True,\n",
    "        fill_color='#3186cc',\n",
    "        fill_opacity=0.7,\n",
    "        parse_html=False).add_to(map_Rome2)  \n",
    "    \n",
    "map_Rome2"
   ]
  },
  {
   "cell_type": "code",
   "execution_count": null,
   "metadata": {},
   "outputs": [],
   "source": [
    "LIMIT = 100\n",
    "\n",
    "CLIENT_ID = 'PQ0NUTKW2A1RN5VSFE42RCJVODXBVNKIXUYDLTFQLZDBV3WR' # your Foursquare ID\n",
    "CLIENT_SECRET = 'AZSSVV0E3P3QVWT1TRSX0RVLU1SSLTXYYPGYFF5ZRIITXZIY' # your Foursquare Secret\n",
    "VERSION = '20180605' # Foursquare API version\n",
    "\n",
    "print('Your credentails:')\n",
    "print('CLIENT_ID: ' + CLIENT_ID)\n",
    "print('CLIENT_SECRET:' + CLIENT_SECRET)\n",
    "\n",
    "def getNeighborhoodVenues( latitude, longitude,neighborhood, radius=1000 ):\n",
    "    venues = []\n",
    "    for lat, long, neighborhood in zip(latitude, longitude ,neighborhood):\n",
    "\n",
    "        # create the API request URL\n",
    "        url = \"https://api.foursquare.com/v2/venues/explore?client_id={}&client_secret={}&v={}&ll={},{}&radius={}&limit={}\".format(\n",
    "            CLIENT_ID,\n",
    "            CLIENT_SECRET,\n",
    "            VERSION,\n",
    "            lat,\n",
    "            long,\n",
    "            radius, \n",
    "            LIMIT)\n",
    "\n",
    "        # make the GET request\n",
    "        results = requests.get(url).json()[\"response\"]['groups'][0]['items']\n",
    "\n",
    "        # return only relevant information for each nearby venue\n",
    "        for venue in results:\n",
    "            venues.append((\n",
    "                neighborhood,\n",
    "                lat, \n",
    "                long, \n",
    "                venue['venue']['name'], \n",
    "                venue['venue']['id'], \n",
    "                venue['venue']['location']['lat'], \n",
    "                venue['venue']['location']['lng'],  \n",
    "                venue['venue']['location']['distance'],  \n",
    "                venue['venue']['categories'][0]['name']))\n",
    "    \n",
    "    # convert the venues list into a DataFrame\n",
    "    venues = pd.DataFrame(venues)\n",
    "    # define the column names\n",
    "    venues.columns = ['Neighborhood', 'Latitude', 'Longitude', 'VenueName', 'VenueId', 'VenueLatitude', 'VenueLongitude','VenueDistance','VenueCategory']\n",
    "            \n",
    "    return venues \n",
    "\n",
    "neighborhood_venues = getNeighborhoodVenues (df_neighborhood['Latitude'], df_neighborhood['Longitude'], df_neighborhood['Neighborhood'] )\n",
    "\n",
    "print('There are {} unique venue categories. Some of them are as below:'.format(len(neighborhood_venues['VenueCategory'].unique())))\n",
    "neighborhood_venues.head()"
   ]
  },
  {
   "cell_type": "code",
   "execution_count": null,
   "metadata": {},
   "outputs": [],
   "source": [
    "LIMIT = 100\n",
    "\n",
    "CLIENT_ID = 'PQ0NUTKW2A1RN5VSFE42RCJVODXBVNKIXUYDLTFQLZDBV3WR' # your Foursquare ID\n",
    "CLIENT_SECRET = 'AZSSVV0E3P3QVWT1TRSX0RVLU1SSLTXYYPGYFF5ZRIITXZIY' # your Foursquare Secret\n",
    "VERSION = '20180605' # Foursquare API version\n",
    "\n",
    "print('Your credentails:')\n",
    "print('CLIENT_ID: ' + CLIENT_ID)\n",
    "print('CLIENT_SECRET:' + CLIENT_SECRET)\n",
    "\n",
    "def getNeighborhoodVenues( latitude, longitude,neighborhood, radius=1000 ):\n",
    "    venues = []\n",
    "    for lat, long, neighborhood in zip(latitude, longitude ,neighborhood):\n",
    "\n",
    "        # create the API request URL\n",
    "        url = \"https://api.foursquare.com/v2/venues/explore?client_id={}&client_secret={}&v={}&ll={},{}&radius={}&limit={}\".format(\n",
    "            CLIENT_ID,\n",
    "            CLIENT_SECRET,\n",
    "            VERSION,\n",
    "            lat,\n",
    "            long,\n",
    "            radius, \n",
    "            LIMIT)\n",
    "\n",
    "        # make the GET request\n",
    "        results = requests.get(url).json()[\"response\"]['groups'][0]['items']\n",
    "\n",
    "        # return only relevant information for each nearby venue\n",
    "        for venue in results:\n",
    "            venues.append((\n",
    "                neighborhood,\n",
    "                lat, \n",
    "                long, \n",
    "                venue['venue']['name'], \n",
    "                venue['venue']['id'], \n",
    "                venue['venue']['location']['lat'], \n",
    "                venue['venue']['location']['lng'],  \n",
    "                venue['venue']['location']['distance'],  \n",
    "                venue['venue']['categories'][0]['name']))\n",
    "    \n",
    "    # convert the venues list into a DataFrame\n",
    "    venues = pd.DataFrame(venues)\n",
    "    # define the column names\n",
    "    venues.columns = ['Neighborhood', 'Latitude', 'Longitude', 'VenueName', 'VenueId', 'VenueLatitude', 'VenueLongitude','VenueDistance','VenueCategory']\n",
    "            \n",
    "    return venues \n",
    "\n",
    "neighborhood_venues2 = getNeighborhoodVenues (dr['Latitude'], dr['Longitude'], dr['Municipio'] )\n",
    "\n",
    "print('There are {} unique venue categories. Some of them are as below:'.format(len(neighborhood_venues2['VenueCategory'].unique())))\n",
    "neighborhood_venues2.head()"
   ]
  },
  {
   "cell_type": "code",
   "execution_count": null,
   "metadata": {},
   "outputs": [],
   "source": [
    "print('Top 10 distinct venue counts are as below')\n",
    "neighborhood_venues[['VenueId','VenueCategory']].drop_duplicates().groupby('VenueCategory').count()[['VenueId']].rename(columns={\"VenueId\": \"Count\"}).sort_values(by=['Count'], ascending=False)[:10]"
   ]
  },
  {
   "cell_type": "code",
   "execution_count": null,
   "metadata": {},
   "outputs": [],
   "source": [
    "print('Top 10 distinct venue counts are as below')\n",
    "neighborhood_venues2[['VenueId','VenueCategory']].drop_duplicates().groupby('VenueCategory').count()[['VenueId']].rename(columns={\"VenueId\": \"Count\"}).sort_values(by=['Count'], ascending=False)[:10]"
   ]
  },
  {
   "cell_type": "code",
   "execution_count": null,
   "metadata": {},
   "outputs": [],
   "source": [
    "dw = neighborhood_venues2.groupby('Neighborhood').count()\n",
    "dw"
   ]
  },
  {
   "cell_type": "code",
   "execution_count": null,
   "metadata": {},
   "outputs": [],
   "source": [
    "# one hot encoding\n",
    "rome_onehot = pd.get_dummies(neighborhood_venues2[['VenueCategory']], prefix=\"\", prefix_sep=\"\")\n",
    "\n",
    "# add neighborhood column back to dataframe\n",
    "rome_onehot['Neighborhood'] = neighborhood_venues2['Neighborhood'] \n",
    "\n",
    "# move neighborhood column to the first column\n",
    "fixed_columns = [rome_onehot.columns[-1]] + list(rome_onehot.columns[:-1])\n",
    "rome_onehot = rome_onehot[fixed_columns]\n",
    "\n",
    "rome_onehot.head()"
   ]
  },
  {
   "cell_type": "code",
   "execution_count": null,
   "metadata": {},
   "outputs": [],
   "source": [
    "rome_grouped = rome_onehot.groupby('Neighborhood').mean().reset_index()"
   ]
  },
  {
   "cell_type": "code",
   "execution_count": null,
   "metadata": {},
   "outputs": [],
   "source": [
    "num_top_venues = 5\n",
    "\n",
    "for hood in rome_grouped['Neighborhood']:\n",
    "    print(\"----\"+hood+\"----\")\n",
    "    temp = rome_grouped[rome_grouped['Neighborhood'] == hood].T.reset_index()\n",
    "    temp.columns = ['venue','freq']\n",
    "    temp = temp.iloc[1:]\n",
    "    temp['freq'] = temp['freq'].astype(float)\n",
    "    temp = temp.round({'freq': 2})\n",
    "    print(temp.sort_values('freq', ascending=False).reset_index(drop=True).head(num_top_venues))\n",
    "    print('\\n')"
   ]
  },
  {
   "cell_type": "code",
   "execution_count": null,
   "metadata": {},
   "outputs": [],
   "source": [
    "def return_most_common_venues(row, num_top_venues):\n",
    "    row_categories = row.iloc[1:]\n",
    "    row_categories_sorted = row_categories.sort_values(ascending=False)\n",
    "    \n",
    "    return row_categories_sorted.index.values[0:num_top_venues]"
   ]
  },
  {
   "cell_type": "code",
   "execution_count": null,
   "metadata": {},
   "outputs": [],
   "source": [
    "num_top_venues = 10\n",
    "\n",
    "indicators = ['st', 'nd', 'rd']\n",
    "\n",
    "# create columns according to number of top venues\n",
    "columns = ['Neighborhood']\n",
    "for ind in np.arange(num_top_venues):\n",
    "    try:\n",
    "        columns.append('{}{} Most Common Venue'.format(ind+1, indicators[ind]))\n",
    "    except:\n",
    "        columns.append('{}th Most Common Venue'.format(ind+1))\n",
    "\n",
    "# create a new dataframe\n",
    "neighborhoods_venues_sorted = pd.DataFrame(columns=columns)\n",
    "neighborhoods_venues_sorted['Neighborhood'] = rome_grouped['Neighborhood']\n",
    "\n",
    "for ind in np.arange(rome_grouped.shape[0]):\n",
    "    neighborhoods_venues_sorted.iloc[ind, 1:] = return_most_common_venues(rome_grouped.iloc[ind, :], num_top_venues)\n",
    "\n",
    "neighborhoods_venues_sorted.head()"
   ]
  },
  {
   "cell_type": "code",
   "execution_count": null,
   "metadata": {},
   "outputs": [],
   "source": [
    "from sklearn.cluster import KMeans\n",
    "import matplotlib\n",
    "\n",
    "rome_grouped_clustering = rome_grouped.drop('Neighborhood', 1)\n",
    "\n",
    "wcss = []\n",
    "for i in range(1,11):\n",
    "    kmeans = KMeans(n_clusters=i, init='k-means++', random_state=0)\n",
    "    kmeans.fit(rome_grouped_clustering)\n",
    "    wcss.append(kmeans.inertia_)\n",
    "\n",
    "\n",
    "# In[221]:\n",
    "\n",
    "\n",
    "plt.plot(range(1,11), wcss)\n",
    "plt.title('Elbow graph')\n",
    "plt.xlabel('Cluster number')\n",
    "plt.ylabel('WCSS')\n",
    "plt.show()"
   ]
  },
  {
   "cell_type": "code",
   "execution_count": null,
   "metadata": {},
   "outputs": [],
   "source": [
    "from sklearn.cluster import KMeans\n",
    "# set number of clusters\n",
    "kclusters = 7\n",
    "\n",
    "#toronto_grouped_clustering = toronto_grouped.drop('Neighborhood', 1)\n",
    "\n",
    "# run k-means clustering\n",
    "kmeans = KMeans(n_clusters=kclusters, random_state=0).fit(rome_grouped_clustering)\n",
    "\n",
    "# check cluster labels generated for each row in the dataframe\n",
    "kmeans.labels_[0:10] "
   ]
  },
  {
   "cell_type": "code",
   "execution_count": null,
   "metadata": {},
   "outputs": [],
   "source": [
    "# add clustering labels\n",
    "neighborhoods_venues2_sorted.insert(0, 'Cluster Labels', kmeans.labels_)\n",
    "\n",
    "\n",
    "# merge toronto_grouped with toronto_data to add latitude/longitude for each neighborhood\n",
    "rome_merged = dr.join(neighborhoods_venues_sorted.set_index('Neighborhood'), on='Municipio')\n",
    "\n",
    "rome_merged.head() # check the last columns!"
   ]
  },
  {
   "cell_type": "code",
   "execution_count": null,
   "metadata": {},
   "outputs": [],
   "source": [
    "restaurant_list =['Bar', 'Brewery','Cocktail Bar','Gastropub','Sports Bar','Pub','Winery','Wine Bar']\n",
    "turkish_restaurant_list = ['Wine Bar']\n",
    "\n",
    "# Filter restaurants \n",
    "    \n",
    "neighborhood_venues2['RestFlag']=False\n",
    "for restCat in restaurant_list:\n",
    "    neighborhood_venues2['RestFlag'] = neighborhood_venues2['RestFlag'] | neighborhood_venues2['VenueCategory'].str.contains(restCat)\n",
    "    \n",
    "neighborhood_restaurants = neighborhood_venues2[neighborhood_venues2['RestFlag'] == True].iloc[:,:-1]\n",
    "turkish_restaurants = neighborhood_restaurants[ neighborhood_restaurants['VenueCategory'].isin(turkish_restaurant_list) ]\n",
    "other_restaurants = neighborhood_restaurants[ ~neighborhood_restaurants['VenueCategory'].isin(turkish_restaurant_list) ]\n",
    "\n",
    "print('Total number of bars:', len(neighborhood_restaurants['VenueId'].unique()))\n",
    "print('Total number of Wine Bars:', len(turkish_restaurants['VenueId'].unique()))\n",
    "print('Percentage of Wine Bars: {:.2f}%'.format(len(turkish_restaurants['VenueId'].unique()) / len(neighborhood_restaurants['VenueId'].unique()) * 100))"
   ]
  },
  {
   "cell_type": "code",
   "execution_count": null,
   "metadata": {},
   "outputs": [],
   "source": [
    "df_rest_counts =  neighborhood_restaurants.groupby(['Neighborhood']).count().rename(columns={\"VenueCategory\": \"RestaurantCount\"})[['RestaurantCount']]\n",
    "\n",
    "#find neighborhoods that does not have any restaurant \n",
    "noRestList = list(set(neighborhood_venues2['Neighborhood']) - set(neighborhood_restaurants['Neighborhood']))\n",
    "\n",
    "#if exists , append neighborhoods without any restaurant to df_rest_counts\n",
    "if noRestList != []:\n",
    "    df_rest_counts = df_rest_counts.append (pd.DataFrame( {'Neighborhood' : noRestList  , 'RestaurantCount': [0] * len(noRestList) } ).set_index('Neighborhood'))\n",
    "\n",
    "df_rest_counts.reset_index(inplace=True)\n",
    "\n",
    "#####\n",
    "# get counts of Turkish restaurants in each Neighborhood\n",
    "df_turk_rest_counts =  turkish_restaurants.groupby(['Neighborhood']).count().rename(columns={\"VenueCategory\": \"TurkRestaurantCount\"})[['TurkRestaurantCount']]\n",
    "\n",
    "#find neighborhoods that does not have any restaurant \n",
    "noRestList = list(set(neighborhood_venues2['Neighborhood']) - set(turkish_restaurants['Neighborhood']))\n",
    "\n",
    "#if exists , append neighborhoods without any restaurant to df_rest_counts\n",
    "if noRestList != []:\n",
    "    df_turk_rest_counts = df_turk_rest_counts.append (pd.DataFrame( {'Neighborhood' : noRestList  , 'TurkRestaurantCount': [0] * len(noRestList) } ).set_index('Neighborhood'))\n",
    "\n",
    "df_turk_rest_counts.reset_index(inplace=True)\n",
    "df_rest_counts= df_rest_counts.merge(df_turk_rest_counts).set_index('Neighborhood')\n",
    "df_rest_counts= df_rest_counts.sort_values(by=['RestaurantCount'],ascending =False)\n",
    "\n",
    "print('{} neighborhoods do not have any Wine Bar'.format(len(noRestList)))\n",
    "######\n",
    "#Draw graph\n",
    "df_rest_counts[['RestaurantCount','TurkRestaurantCount']].plot(kind='bar',figsize=(15,5))\n",
    "plt.title('Wine Bars Counts of Neighborhoods')\n",
    "plt.xlabel('Neighborhood')\n",
    "plt.ylabel('Wine Bars Counts')\n",
    "plt.show()"
   ]
  },
  {
   "cell_type": "code",
   "execution_count": null,
   "metadata": {},
   "outputs": [],
   "source": [
    "neighborhood_venues2['Neighborhood'].value_counts().plot(kind='bar')"
   ]
  },
  {
   "cell_type": "code",
   "execution_count": null,
   "metadata": {},
   "outputs": [],
   "source": [
    "neighborhood_venues2['Neighborhood'].value_counts().plot(kind='bar')"
   ]
  },
  {
   "cell_type": "code",
   "execution_count": null,
   "metadata": {},
   "outputs": [],
   "source": [
    "def getVenueRaitings(venues):\n",
    "    \n",
    "    raitings = []\n",
    "    likes =[]\n",
    "    for venueId in venues:\n",
    "\n",
    "        # create the API request URL\n",
    "        url = 'https://api.foursquare.com/v2/venues/{}?client_id={}&client_secret={}&v={}'.format(venueId, CLIENT_ID, CLIENT_SECRET, VERSION)\n",
    "        result = requests.get(url).json()\n",
    "        try:\n",
    "            rating = result['response']['venue']['rating']\n",
    "            likes = result['response']['venue']['likes']['count']\n",
    "        except:\n",
    "            rating = None\n",
    "            likes = None\n",
    "        \n",
    "        raitings.append((venueId, rating,likes))\n",
    " \n",
    "    # convert the venues list into a DataFrame\n",
    "    rating = pd.DataFrame(raitings)\n",
    "    # define the column names\n",
    "    rating.columns = ['VenueId', 'VenueRating','VenueLikes']\n",
    "\n",
    "    return rating    \n",
    "\n",
    "restaurants_raitings = getVenueRaitings(neighborhood_restaurants['VenueId'].drop_duplicates())\n",
    "restaurants_raitings.head()"
   ]
  },
  {
   "cell_type": "code",
   "execution_count": null,
   "metadata": {},
   "outputs": [],
   "source": [
    "#merge raitings to restaurants \n",
    "neighborhood_restaurants = neighborhood_restaurants.merge(restaurants_raitings)\n",
    "neighborhood_restaurants.head()\n"
   ]
  },
  {
   "cell_type": "code",
   "execution_count": null,
   "metadata": {},
   "outputs": [],
   "source": [
    "neighborhood_restaurants"
   ]
  },
  {
   "cell_type": "code",
   "execution_count": null,
   "metadata": {},
   "outputs": [],
   "source": [
    "neighborhood_restaurants[['VenueRating','Neighborhood']].drop_duplicates().groupby('Neighborhood').mean()\n"
   ]
  },
  {
   "cell_type": "code",
   "execution_count": null,
   "metadata": {},
   "outputs": [],
   "source": [
    "neighborhood_restaurants[['VenueRating','Neighborhood']].drop_duplicates().groupby('Neighborhood').median()\n"
   ]
  },
  {
   "cell_type": "code",
   "execution_count": null,
   "metadata": {},
   "outputs": [],
   "source": []
  },
  {
   "cell_type": "code",
   "execution_count": null,
   "metadata": {},
   "outputs": [],
   "source": []
  },
  {
   "cell_type": "code",
   "execution_count": null,
   "metadata": {},
   "outputs": [],
   "source": [
    "import matplotlib.cm as cm\n",
    "import matplotlib.colors as colors\n",
    "# create map\n",
    "map_clusters = folium.Map(location=[43.651070,-79.347015],zoom_start=10)\n",
    "\n",
    "# set color scheme for the clusters\n",
    "x = np.arange(k)\n",
    "ys = [i + x + (i*x)**2 for i in range(k)]\n",
    "colors_array = cm.rainbow(np.linspace(0, 1, len(ys)))\n",
    "rainbow = [colors.rgb2hex(i) for i in colors_array]\n",
    "\n",
    "# add markers to the map\n",
    "markers_colors = []\n",
    "for lat, lon, neighbourhood, cluster in zip(geo_data['Latitude'], geo_data['Longitude'], geo_data['Neighborhood'], geo_data['Cluster Labels']):\n",
    "    label = folium.Popup(' Cluster ' + str(cluster), parse_html=True)\n",
    "    folium.CircleMarker(\n",
    "        [lat, lon],\n",
    "        radius=5,\n",
    "        popup=label,\n",
    "        color=rainbow[cluster-1],\n",
    "        fill=True,\n",
    "        fill_color=rainbow[cluster-1],\n",
    "        fill_opacity=0.7).add_to(map_clusters)\n",
    "       \n",
    "map_clusters"
   ]
  },
  {
   "cell_type": "code",
   "execution_count": null,
   "metadata": {},
   "outputs": [],
   "source": []
  },
  {
   "cell_type": "code",
   "execution_count": null,
   "metadata": {},
   "outputs": [],
   "source": [
    "toronto_merged.loc[toronto_merged['Cluster Labels'] == 0, toronto_merged.columns[[1] + list(range(5, toronto_merged.shape[1]))]]"
   ]
  },
  {
   "cell_type": "code",
   "execution_count": null,
   "metadata": {},
   "outputs": [],
   "source": [
    "toronto_merged.loc[toronto_merged['Cluster Labels'] == 1, toronto_merged.columns[[1] + list(range(5, toronto_merged.shape[1]))]]"
   ]
  },
  {
   "cell_type": "code",
   "execution_count": null,
   "metadata": {},
   "outputs": [],
   "source": [
    "toronto_merged.loc[toronto_merged['Cluster Labels'] == 2, toronto_merged.columns[[1] + list(range(5, toronto_merged.shape[1]))]]"
   ]
  },
  {
   "cell_type": "code",
   "execution_count": null,
   "metadata": {},
   "outputs": [],
   "source": [
    "toronto_merged.loc[toronto_merged['Cluster Labels'] == 3, toronto_merged.columns[[1] + list(range(5, toronto_merged.shape[1]))]]"
   ]
  },
  {
   "cell_type": "code",
   "execution_count": null,
   "metadata": {},
   "outputs": [],
   "source": [
    "toronto_merged.loc[toronto_merged['Cluster Labels'] == 4, toronto_merged.columns[[1] + list(range(5, toronto_merged.shape[1]))]]"
   ]
  },
  {
   "cell_type": "code",
   "execution_count": null,
   "metadata": {},
   "outputs": [],
   "source": []
  },
  {
   "cell_type": "code",
   "execution_count": null,
   "metadata": {},
   "outputs": [],
   "source": []
  }
 ],
 "metadata": {
  "kernelspec": {
   "display_name": "Python 3",
   "language": "python",
   "name": "python3"
  },
  "language_info": {
   "codemirror_mode": {
    "name": "ipython",
    "version": 3
   },
   "file_extension": ".py",
   "mimetype": "text/x-python",
   "name": "python",
   "nbconvert_exporter": "python",
   "pygments_lexer": "ipython3",
   "version": "3.7.3"
  }
 },
 "nbformat": 4,
 "nbformat_minor": 2
}
